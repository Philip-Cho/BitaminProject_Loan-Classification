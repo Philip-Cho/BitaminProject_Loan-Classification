{
 "cells": [
  {
   "cell_type": "code",
   "execution_count": 2,
   "metadata": {},
   "outputs": [],
   "source": [
    "import pandas as pd\n",
    "import numpy as np\n",
    "from scipy.stats import mode\n",
    "import seaborn as sns\n",
    "\n",
    "import warnings\n",
    "warnings.filterwarnings('ignore')\n",
    "\n",
    "from sklearn.preprocessing import LabelEncoder\n",
    "from sklearn.linear_model import LogisticRegression\n",
    "from sklearn.model_selection import StratifiedKFold, train_test_split\n",
    "from sklearn.metrics import accuracy_score, roc_auc_score"
   ]
  },
  {
   "cell_type": "code",
   "execution_count": 4,
   "metadata": {},
   "outputs": [
    {
     "data": {
      "text/html": [
       "<div>\n",
       "<style scoped>\n",
       "    .dataframe tbody tr th:only-of-type {\n",
       "        vertical-align: middle;\n",
       "    }\n",
       "\n",
       "    .dataframe tbody tr th {\n",
       "        vertical-align: top;\n",
       "    }\n",
       "\n",
       "    .dataframe thead th {\n",
       "        text-align: right;\n",
       "    }\n",
       "</style>\n",
       "<table border=\"1\" class=\"dataframe\">\n",
       "  <thead>\n",
       "    <tr style=\"text-align: right;\">\n",
       "      <th></th>\n",
       "      <th>Unnamed: 0</th>\n",
       "      <th>Loan_ID</th>\n",
       "      <th>Gender</th>\n",
       "      <th>Married</th>\n",
       "      <th>Dependents</th>\n",
       "      <th>Education</th>\n",
       "      <th>Self_Employed</th>\n",
       "      <th>ApplicantIncome</th>\n",
       "      <th>CoapplicantIncome</th>\n",
       "      <th>LoanAmount</th>\n",
       "      <th>Loan_Amount_Term</th>\n",
       "      <th>Credit_History</th>\n",
       "      <th>Property_Area</th>\n",
       "      <th>Loan_Status</th>\n",
       "      <th>Total_Income</th>\n",
       "    </tr>\n",
       "  </thead>\n",
       "  <tbody>\n",
       "    <tr>\n",
       "      <th>0</th>\n",
       "      <td>0</td>\n",
       "      <td>LP001002</td>\n",
       "      <td>Male</td>\n",
       "      <td>No</td>\n",
       "      <td>0</td>\n",
       "      <td>Graduate</td>\n",
       "      <td>No</td>\n",
       "      <td>5849</td>\n",
       "      <td>0.0</td>\n",
       "      <td>NaN</td>\n",
       "      <td>360.0</td>\n",
       "      <td>1.0</td>\n",
       "      <td>Urban</td>\n",
       "      <td>Y</td>\n",
       "      <td>$5849.0</td>\n",
       "    </tr>\n",
       "    <tr>\n",
       "      <th>1</th>\n",
       "      <td>1</td>\n",
       "      <td>LP001003</td>\n",
       "      <td>Male</td>\n",
       "      <td>Yes</td>\n",
       "      <td>1</td>\n",
       "      <td>Graduate</td>\n",
       "      <td>No</td>\n",
       "      <td>4583</td>\n",
       "      <td>1508.0</td>\n",
       "      <td>128.0</td>\n",
       "      <td>360.0</td>\n",
       "      <td>1.0</td>\n",
       "      <td>Rural</td>\n",
       "      <td>N</td>\n",
       "      <td>$6091.0</td>\n",
       "    </tr>\n",
       "    <tr>\n",
       "      <th>2</th>\n",
       "      <td>2</td>\n",
       "      <td>LP001005</td>\n",
       "      <td>Male</td>\n",
       "      <td>Yes</td>\n",
       "      <td>0</td>\n",
       "      <td>Graduate</td>\n",
       "      <td>Yes</td>\n",
       "      <td>3000</td>\n",
       "      <td>0.0</td>\n",
       "      <td>66.0</td>\n",
       "      <td>360.0</td>\n",
       "      <td>1.0</td>\n",
       "      <td>Urban</td>\n",
       "      <td>Y</td>\n",
       "      <td>$3000.0</td>\n",
       "    </tr>\n",
       "    <tr>\n",
       "      <th>3</th>\n",
       "      <td>3</td>\n",
       "      <td>LP001006</td>\n",
       "      <td>Male</td>\n",
       "      <td>Yes</td>\n",
       "      <td>0</td>\n",
       "      <td>Not Graduate</td>\n",
       "      <td>No</td>\n",
       "      <td>2583</td>\n",
       "      <td>2358.0</td>\n",
       "      <td>120.0</td>\n",
       "      <td>360.0</td>\n",
       "      <td>1.0</td>\n",
       "      <td>Urban</td>\n",
       "      <td>Y</td>\n",
       "      <td>$4941.0</td>\n",
       "    </tr>\n",
       "    <tr>\n",
       "      <th>4</th>\n",
       "      <td>4</td>\n",
       "      <td>LP001008</td>\n",
       "      <td>Male</td>\n",
       "      <td>No</td>\n",
       "      <td>0</td>\n",
       "      <td>Graduate</td>\n",
       "      <td>No</td>\n",
       "      <td>6000</td>\n",
       "      <td>0.0</td>\n",
       "      <td>141.0</td>\n",
       "      <td>360.0</td>\n",
       "      <td>1.0</td>\n",
       "      <td>Urban</td>\n",
       "      <td>Y</td>\n",
       "      <td>$6000.0</td>\n",
       "    </tr>\n",
       "  </tbody>\n",
       "</table>\n",
       "</div>"
      ],
      "text/plain": [
       "   Unnamed: 0   Loan_ID Gender Married Dependents     Education Self_Employed  \\\n",
       "0           0  LP001002   Male      No          0      Graduate            No   \n",
       "1           1  LP001003   Male     Yes          1      Graduate            No   \n",
       "2           2  LP001005   Male     Yes          0      Graduate           Yes   \n",
       "3           3  LP001006   Male     Yes          0  Not Graduate            No   \n",
       "4           4  LP001008   Male      No          0      Graduate            No   \n",
       "\n",
       "   ApplicantIncome  CoapplicantIncome  LoanAmount  Loan_Amount_Term  \\\n",
       "0             5849                0.0         NaN             360.0   \n",
       "1             4583             1508.0       128.0             360.0   \n",
       "2             3000                0.0        66.0             360.0   \n",
       "3             2583             2358.0       120.0             360.0   \n",
       "4             6000                0.0       141.0             360.0   \n",
       "\n",
       "   Credit_History Property_Area Loan_Status Total_Income  \n",
       "0             1.0         Urban           Y      $5849.0  \n",
       "1             1.0         Rural           N      $6091.0  \n",
       "2             1.0         Urban           Y      $3000.0  \n",
       "3             1.0         Urban           Y      $4941.0  \n",
       "4             1.0         Urban           Y      $6000.0  "
      ]
     },
     "execution_count": 4,
     "metadata": {},
     "output_type": "execute_result"
    }
   ],
   "source": [
    "data = pd.read_csv('/Users/philip_cho/Desktop/df1_loan 2.csv')\n",
    "data.head()"
   ]
  },
  {
   "cell_type": "code",
   "execution_count": 5,
   "metadata": {},
   "outputs": [],
   "source": [
    "# input / output split\n",
    "X = data.drop('Loan_Status', axis=1)\n",
    "y = data['Loan_Status']"
   ]
  },
  {
   "cell_type": "markdown",
   "metadata": {},
   "source": [
    "# EDA BaseLine\n",
    "### key point: null값을 무엇으로 채울 것인지 고민 필요 \n",
    "\n",
    " - dependents: 부양가족\n",
    " - credit_history: "
   ]
  },
  {
   "cell_type": "markdown",
   "metadata": {},
   "source": [
    "- 원핫인코딩할지, 레이블인코딩 할지 고민 필요"
   ]
  },
  {
   "cell_type": "code",
   "execution_count": 6,
   "metadata": {
    "scrolled": true
   },
   "outputs": [
    {
     "name": "stdout",
     "output_type": "stream",
     "text": [
      "<class 'pandas.core.frame.DataFrame'>\n",
      "RangeIndex: 500 entries, 0 to 499\n",
      "Data columns (total 15 columns):\n",
      " #   Column             Non-Null Count  Dtype  \n",
      "---  ------             --------------  -----  \n",
      " 0   Unnamed: 0         500 non-null    int64  \n",
      " 1   Loan_ID            500 non-null    object \n",
      " 2   Gender             491 non-null    object \n",
      " 3   Married            497 non-null    object \n",
      " 4   Dependents         488 non-null    object \n",
      " 5   Education          500 non-null    object \n",
      " 6   Self_Employed      473 non-null    object \n",
      " 7   ApplicantIncome    500 non-null    int64  \n",
      " 8   CoapplicantIncome  500 non-null    float64\n",
      " 9   LoanAmount         482 non-null    float64\n",
      " 10  Loan_Amount_Term   486 non-null    float64\n",
      " 11  Credit_History     459 non-null    float64\n",
      " 12  Property_Area      500 non-null    object \n",
      " 13  Loan_Status        500 non-null    object \n",
      " 14  Total_Income       500 non-null    object \n",
      "dtypes: float64(4), int64(2), object(9)\n",
      "memory usage: 58.7+ KB\n"
     ]
    }
   ],
   "source": [
    "data.info()"
   ]
  },
  {
   "cell_type": "code",
   "execution_count": 5,
   "metadata": {},
   "outputs": [],
   "source": [
    "# 불필요 피처 삭제\n",
    "X = X.drop(['Unnamed: 0', 'Loan_ID'], axis=1)\n",
    "\n",
    "# Total_Income float 변환\n",
    "for i in range(len(X['Total_Income'])):\n",
    "    X['Total_Income'][i] = float(X['Total_Income'][i].strip('$'))\n",
    "\n",
    "# 연속형 피처 리스트 저장\n",
    "X._get_numeric_data().columns\n",
    "\n",
    "num_col = list(X._get_numeric_data().columns)\n",
    "num_col.remove('Credit_History')\n",
    "num_col.append('Total_Income')\n",
    "\n",
    "# 범주형 피처 리스트 저장\n",
    "cat_col = list(X.columns)\n",
    "for col in num_col:\n",
    "    cat_col.remove(col)\n",
    "\n",
    "# 연속형 데이터 전처리(평균값으로 채우기)\n",
    "for col in num_col:\n",
    "    X[col].fillna(round(np.mean(X[col])), inplace=True)\n",
    "\n",
    "# 범주형 데이터 전처리 (최빈값으로 채우기)\n",
    "for col in cat_col:\n",
    "    X[col].fillna(mode(X[col])[0][0], inplace=True)\n",
    "\n",
    "# 레이블인코딩\n",
    "encoder = LabelEncoder()\n",
    "for cat in cat_col:\n",
    "    X[cat] = encoder.fit_transform(X[cat])\n",
    "\n",
    "# num_col은 데이터 분포가 각각 다 다르므로 스케일링 방법 고민 필요함\n",
    "# log scale (0값 inf 변환 막기 위해 log1p 사용)\n",
    "# for num in num_col:\n",
    "#     X[num] = np.log1p(X[num])"
   ]
  },
  {
   "cell_type": "code",
   "execution_count": 6,
   "metadata": {
    "scrolled": true
   },
   "outputs": [
    {
     "name": "stdout",
     "output_type": "stream",
     "text": [
      "<class 'pandas.core.frame.DataFrame'>\n",
      "RangeIndex: 500 entries, 0 to 499\n",
      "Data columns (total 12 columns):\n",
      " #   Column             Non-Null Count  Dtype  \n",
      "---  ------             --------------  -----  \n",
      " 0   Gender             500 non-null    int64  \n",
      " 1   Married            500 non-null    int64  \n",
      " 2   Dependents         500 non-null    int64  \n",
      " 3   Education          500 non-null    int64  \n",
      " 4   Self_Employed      500 non-null    int64  \n",
      " 5   ApplicantIncome    500 non-null    int64  \n",
      " 6   CoapplicantIncome  500 non-null    float64\n",
      " 7   LoanAmount         500 non-null    float64\n",
      " 8   Loan_Amount_Term   500 non-null    float64\n",
      " 9   Credit_History     500 non-null    int64  \n",
      " 10  Property_Area      500 non-null    int64  \n",
      " 11  Total_Income       500 non-null    float64\n",
      "dtypes: float64(4), int64(8)\n",
      "memory usage: 47.0 KB\n"
     ]
    }
   ],
   "source": [
    "X.info()"
   ]
  },
  {
   "cell_type": "markdown",
   "metadata": {},
   "source": [
    "# Modeling\n",
    "\n",
    "#### [사용 할만한 모델]\n",
    " - logistic regression\n",
    " - Decision tree\n",
    " - xgboost\n",
    " - svm"
   ]
  },
  {
   "cell_type": "code",
   "execution_count": 7,
   "metadata": {},
   "outputs": [],
   "source": [
    "X_train, X_test, y_train, y_test = train_test_split(X,y, test_size=0.25)"
   ]
  },
  {
   "cell_type": "code",
   "execution_count": 8,
   "metadata": {},
   "outputs": [],
   "source": [
    "logistic = LogisticRegression()\n",
    "logistic.fit(X_train, y_train)\n",
    "y_preds = logistic.predict(X_test)"
   ]
  },
  {
   "cell_type": "markdown",
   "metadata": {},
   "source": [
    "# Evaluating"
   ]
  },
  {
   "cell_type": "code",
   "execution_count": 9,
   "metadata": {},
   "outputs": [
    {
     "name": "stdout",
     "output_type": "stream",
     "text": [
      "Accuracy Score: 0.800\n"
     ]
    }
   ],
   "source": [
    "print('Accuracy Score: {:0.3f}'.format(accuracy_score(y_test, y_preds)))"
   ]
  },
  {
   "cell_type": "markdown",
   "metadata": {},
   "source": [
    "# Visualize"
   ]
  }
 ],
 "metadata": {
  "kernelspec": {
   "display_name": "Python 3",
   "language": "python",
   "name": "python3"
  },
  "language_info": {
   "codemirror_mode": {
    "name": "ipython",
    "version": 3
   },
   "file_extension": ".py",
   "mimetype": "text/x-python",
   "name": "python",
   "nbconvert_exporter": "python",
   "pygments_lexer": "ipython3",
   "version": "3.8.5"
  }
 },
 "nbformat": 4,
 "nbformat_minor": 4
}
