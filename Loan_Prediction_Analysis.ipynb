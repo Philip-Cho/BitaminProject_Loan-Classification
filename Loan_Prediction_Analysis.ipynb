{
  "nbformat": 4,
  "nbformat_minor": 0,
  "metadata": {
    "colab": {
      "name": "Loan Prediction Analysis.ipynb",
      "provenance": [],
      "collapsed_sections": [],
      "mount_file_id": "1EQJb_PGv57c38lzKJpZXBJRRIltfy_9W",
      "authorship_tag": "ABX9TyOFOd1W+Y1HbSd1cWVNB8xk",
      "include_colab_link": true
    },
    "kernelspec": {
      "name": "python3",
      "display_name": "Python 3"
    },
    "language_info": {
      "name": "python"
    }
  },
  "cells": [
    {
      "cell_type": "markdown",
      "metadata": {
        "id": "view-in-github",
        "colab_type": "text"
      },
      "source": [
        "<a href=\"https://colab.research.google.com/github/Philip-Cho/BitaminProject_Loan-Classification/blob/master/Loan_Prediction_Analysis.ipynb\" target=\"_parent\"><img src=\"https://colab.research.google.com/assets/colab-badge.svg\" alt=\"Open In Colab\"/></a>"
      ]
    },
    {
      "cell_type": "code",
      "metadata": {
        "id": "0U8Wep5XHv7E"
      },
      "source": [
        "from google.colab import drive\n",
        "\n",
        "\n",
        "import warnings\n",
        "warnings.filterwarnings('ignore')\n",
        "\n",
        "import pandas as pd\n",
        "import numpy as np\n",
        "from scipy.stats import mode\n",
        "\n",
        "import matplotlib.pyplot as plt\n",
        "import seaborn as sns\n",
        "%matplotlib inline\n",
        "\n",
        "from sklearn.preprocessing import LabelEncoder, OneHotEncoder\n",
        "from sklearn.model_selection import StratifiedKFold, train_test_split\n",
        "from sklearn.metrics import accuracy_score, roc_auc_score"
      ],
      "execution_count": 1,
      "outputs": []
    },
    {
      "cell_type": "code",
      "metadata": {
        "colab": {
          "base_uri": "https://localhost:8080/"
        },
        "id": "ZRNEp5I7KFwp",
        "outputId": "6b4a9634-af5b-4d1e-88f7-949c058593db"
      },
      "source": [
        "drive.mount('/content/drive')"
      ],
      "execution_count": 2,
      "outputs": [
        {
          "output_type": "stream",
          "text": [
            "Drive already mounted at /content/drive; to attempt to forcibly remount, call drive.mount(\"/content/drive\", force_remount=True).\n"
          ],
          "name": "stdout"
        }
      ]
    },
    {
      "cell_type": "code",
      "metadata": {
        "colab": {
          "base_uri": "https://localhost:8080/",
          "height": 258
        },
        "id": "vhgeqEN2KLJK",
        "outputId": "bd7ef751-8caa-4b9f-8edb-3f3345dbd21b"
      },
      "source": [
        "data = pd.read_csv('/content/drive/MyDrive/datasets/kaggle Loan Prediction(복습플젝)/df1_loan 2.csv')\n",
        "data.head()"
      ],
      "execution_count": 3,
      "outputs": [
        {
          "output_type": "execute_result",
          "data": {
            "text/html": [
              "<div>\n",
              "<style scoped>\n",
              "    .dataframe tbody tr th:only-of-type {\n",
              "        vertical-align: middle;\n",
              "    }\n",
              "\n",
              "    .dataframe tbody tr th {\n",
              "        vertical-align: top;\n",
              "    }\n",
              "\n",
              "    .dataframe thead th {\n",
              "        text-align: right;\n",
              "    }\n",
              "</style>\n",
              "<table border=\"1\" class=\"dataframe\">\n",
              "  <thead>\n",
              "    <tr style=\"text-align: right;\">\n",
              "      <th></th>\n",
              "      <th>Unnamed: 0</th>\n",
              "      <th>Loan_ID</th>\n",
              "      <th>Gender</th>\n",
              "      <th>Married</th>\n",
              "      <th>Dependents</th>\n",
              "      <th>Education</th>\n",
              "      <th>Self_Employed</th>\n",
              "      <th>ApplicantIncome</th>\n",
              "      <th>CoapplicantIncome</th>\n",
              "      <th>LoanAmount</th>\n",
              "      <th>Loan_Amount_Term</th>\n",
              "      <th>Credit_History</th>\n",
              "      <th>Property_Area</th>\n",
              "      <th>Loan_Status</th>\n",
              "      <th>Total_Income</th>\n",
              "    </tr>\n",
              "  </thead>\n",
              "  <tbody>\n",
              "    <tr>\n",
              "      <th>0</th>\n",
              "      <td>0</td>\n",
              "      <td>LP001002</td>\n",
              "      <td>Male</td>\n",
              "      <td>No</td>\n",
              "      <td>0</td>\n",
              "      <td>Graduate</td>\n",
              "      <td>No</td>\n",
              "      <td>5849</td>\n",
              "      <td>0.0</td>\n",
              "      <td>NaN</td>\n",
              "      <td>360.0</td>\n",
              "      <td>1.0</td>\n",
              "      <td>Urban</td>\n",
              "      <td>Y</td>\n",
              "      <td>$5849.0</td>\n",
              "    </tr>\n",
              "    <tr>\n",
              "      <th>1</th>\n",
              "      <td>1</td>\n",
              "      <td>LP001003</td>\n",
              "      <td>Male</td>\n",
              "      <td>Yes</td>\n",
              "      <td>1</td>\n",
              "      <td>Graduate</td>\n",
              "      <td>No</td>\n",
              "      <td>4583</td>\n",
              "      <td>1508.0</td>\n",
              "      <td>128.0</td>\n",
              "      <td>360.0</td>\n",
              "      <td>1.0</td>\n",
              "      <td>Rural</td>\n",
              "      <td>N</td>\n",
              "      <td>$6091.0</td>\n",
              "    </tr>\n",
              "    <tr>\n",
              "      <th>2</th>\n",
              "      <td>2</td>\n",
              "      <td>LP001005</td>\n",
              "      <td>Male</td>\n",
              "      <td>Yes</td>\n",
              "      <td>0</td>\n",
              "      <td>Graduate</td>\n",
              "      <td>Yes</td>\n",
              "      <td>3000</td>\n",
              "      <td>0.0</td>\n",
              "      <td>66.0</td>\n",
              "      <td>360.0</td>\n",
              "      <td>1.0</td>\n",
              "      <td>Urban</td>\n",
              "      <td>Y</td>\n",
              "      <td>$3000.0</td>\n",
              "    </tr>\n",
              "    <tr>\n",
              "      <th>3</th>\n",
              "      <td>3</td>\n",
              "      <td>LP001006</td>\n",
              "      <td>Male</td>\n",
              "      <td>Yes</td>\n",
              "      <td>0</td>\n",
              "      <td>Not Graduate</td>\n",
              "      <td>No</td>\n",
              "      <td>2583</td>\n",
              "      <td>2358.0</td>\n",
              "      <td>120.0</td>\n",
              "      <td>360.0</td>\n",
              "      <td>1.0</td>\n",
              "      <td>Urban</td>\n",
              "      <td>Y</td>\n",
              "      <td>$4941.0</td>\n",
              "    </tr>\n",
              "    <tr>\n",
              "      <th>4</th>\n",
              "      <td>4</td>\n",
              "      <td>LP001008</td>\n",
              "      <td>Male</td>\n",
              "      <td>No</td>\n",
              "      <td>0</td>\n",
              "      <td>Graduate</td>\n",
              "      <td>No</td>\n",
              "      <td>6000</td>\n",
              "      <td>0.0</td>\n",
              "      <td>141.0</td>\n",
              "      <td>360.0</td>\n",
              "      <td>1.0</td>\n",
              "      <td>Urban</td>\n",
              "      <td>Y</td>\n",
              "      <td>$6000.0</td>\n",
              "    </tr>\n",
              "  </tbody>\n",
              "</table>\n",
              "</div>"
            ],
            "text/plain": [
              "   Unnamed: 0   Loan_ID Gender  ... Property_Area Loan_Status Total_Income\n",
              "0           0  LP001002   Male  ...         Urban           Y      $5849.0\n",
              "1           1  LP001003   Male  ...         Rural           N      $6091.0\n",
              "2           2  LP001005   Male  ...         Urban           Y      $3000.0\n",
              "3           3  LP001006   Male  ...         Urban           Y      $4941.0\n",
              "4           4  LP001008   Male  ...         Urban           Y      $6000.0\n",
              "\n",
              "[5 rows x 15 columns]"
            ]
          },
          "metadata": {
            "tags": []
          },
          "execution_count": 3
        }
      ]
    },
    {
      "cell_type": "code",
      "metadata": {
        "id": "LP1r2dR_OhSk"
      },
      "source": [
        "# input / output split + 불필요한 feature 삭제\n",
        "X = data.drop(['Unnamed: 0', 'Loan_ID', 'Loan_Status'], axis=1)\n",
        "y = data['Loan_Status']\n",
        "\n",
        "# Total_Income float 변환, Credit_history object 변환\n",
        "for i in range(len(X['Total_Income'])):\n",
        "    X['Total_Income'][i] = X['Total_Income'][i].strip('$')\n",
        "\n",
        "X['Credit_History'].fillna(mode(X['Credit_History'])[0][0], inplace=True)\n",
        "X = X.astype({'Total_Income':'float', 'Credit_History':'str'})\n",
        "    "
      ],
      "execution_count": 4,
      "outputs": []
    },
    {
      "cell_type": "code",
      "metadata": {
        "colab": {
          "base_uri": "https://localhost:8080/"
        },
        "id": "LYTlOuVUOka_",
        "outputId": "93cbe629-82eb-445a-afca-2a1ed4652409"
      },
      "source": [
        "X.info()"
      ],
      "execution_count": 5,
      "outputs": [
        {
          "output_type": "stream",
          "text": [
            "<class 'pandas.core.frame.DataFrame'>\n",
            "RangeIndex: 500 entries, 0 to 499\n",
            "Data columns (total 12 columns):\n",
            " #   Column             Non-Null Count  Dtype  \n",
            "---  ------             --------------  -----  \n",
            " 0   Gender             491 non-null    object \n",
            " 1   Married            497 non-null    object \n",
            " 2   Dependents         488 non-null    object \n",
            " 3   Education          500 non-null    object \n",
            " 4   Self_Employed      473 non-null    object \n",
            " 5   ApplicantIncome    500 non-null    int64  \n",
            " 6   CoapplicantIncome  500 non-null    float64\n",
            " 7   LoanAmount         482 non-null    float64\n",
            " 8   Loan_Amount_Term   486 non-null    float64\n",
            " 9   Credit_History     500 non-null    object \n",
            " 10  Property_Area      500 non-null    object \n",
            " 11  Total_Income       500 non-null    float64\n",
            "dtypes: float64(4), int64(1), object(7)\n",
            "memory usage: 47.0+ KB\n"
          ],
          "name": "stdout"
        }
      ]
    },
    {
      "cell_type": "markdown",
      "metadata": {
        "id": "yGxt6HU1vdQg"
      },
      "source": [
        "# Methods"
      ]
    },
    {
      "cell_type": "code",
      "metadata": {
        "id": "U8yTxheyvcJZ"
      },
      "source": [
        "from sklearn.metrics import precision_recall_curve\n",
        "from sklearn.metrics import roc_curve\n",
        "from sklearn.metrics import accuracy_score, precision_score, recall_score, f1_score, roc_auc_score, confusion_matrix\n",
        "\n",
        "def get_clf_eval(y_test, pred=None, pred_proba=None):\n",
        "    confusion = confusion_matrix(y_test, pred)\n",
        "    accuracy = accuracy_score(y_test, pred)\n",
        "    precision = precision_score(y_test, pred)\n",
        "    recall = recall_score(y_test, pred)\n",
        "    f1 = f1_score(y_test, pred)\n",
        "    roc_score = roc_auc_score(y_test, pred)\n",
        "    print('오차 행렬')\n",
        "    print(confusion)\n",
        "    print('\\n정확도: {0:.4f}\\n정밀도: {1:.4f}\\n재현율: {2:.4f}\\nF1: {3:.4f}\\nROC: {3:.4f}'.format(accuracy, precision, recall, f1, roc_score))\n",
        "\n",
        "\n",
        "def roc_curve_plot(y_test, pred_proba_c1):\n",
        "    fprs, tprs, thresholds  = roc_curve(y_test, pred_proba_c1)\n",
        "    \n",
        "    plt.plot(fprs, tprs, label='ROC')\n",
        "    plt.plot([0,1], [0,1], 'k--', label='Random')\n",
        "    \n",
        "    start, end = plt.xlim()\n",
        "    plt.xticks(np.round(np.arange(start, end, 0.1), 2))\n",
        "    \n",
        "    plt.xlim(0, 1)\n",
        "    plt.ylim(0, 1)\n",
        "    plt.xlabel('FPR(1-Sensitivity)')\n",
        "    plt.ylabel('TPR(Recall)')\n",
        "    plt.legend()\n",
        "\n",
        "def precision_recall_curve_plot(y_test, pred_proba_c1):\n",
        "\n",
        "    precisions, recalls, thresholds = precision_recall_curve(y_test, pred_proba_c1)\n",
        "    \n",
        "    plt.figure(figsize=(8,6))\n",
        "    thresholds_boundary = thresholds.shape[0]\n",
        "    plt.plot(thresholds, precisions[0: thresholds_boundary], linestyle= '--', label='precision')\n",
        "    plt.plot(thresholds, recalls[0: thresholds_boundary], label='recall')\n",
        "    \n",
        "    stard, end = plt.xlim()\n",
        "    plt.xticks(np.round(np.arange(stard, end, 0.1), 2))\n",
        "\n",
        "    plt.xlabel('Threshold value')\n",
        "    plt.ylabel('Precision and Recall value')\n",
        "    plt.legend()\n",
        "    plt.grid()\n",
        "    plt.show()"
      ],
      "execution_count": 6,
      "outputs": []
    },
    {
      "cell_type": "code",
      "metadata": {
        "id": "sI23cpFnOo52"
      },
      "source": [
        "# 결측치 처리1 - 평균(수치형), 최빈값(범주형) 처리\n",
        "def meanMode(X):\n",
        "    \n",
        "    # 연속형 피처 리스트 저장\n",
        "    num_col = list(X._get_numeric_data().columns)\n",
        "\n",
        "    # 범주형 피처 리스트 저장\n",
        "    cat_col = list(X.columns)\n",
        "    for col in num_col:\n",
        "        cat_col.remove(col)\n",
        "\n",
        "    # 연속형 데이터 전처리(평균값으로 채우기)\n",
        "    for col in num_col:\n",
        "        X[col].fillna(round(np.mean(X[col])), inplace=True)\n",
        "\n",
        "    # 범주형 데이터 전처리 (최빈값으로 채우기)\n",
        "    for col in cat_col:\n",
        "        X[col].fillna(mode(X[col])[0][0], inplace=True)\n",
        "        \n",
        "    return X\n",
        "        \n",
        "    \n",
        "# 결측치 처리2 - 결측행 제거\n",
        "def delNaN(X, y):\n",
        "    X['y'] = y\n",
        "    X = X.dropna(how='any', axis=0).reset_index()\n",
        "    return X.drop('y', axis=1), X['y']\n",
        "\n",
        "\n",
        "    # 인코딩1 - 레이블인코딩\n",
        "def LabelEncode(X):\n",
        "    \n",
        "    # 연속형 피처 리스트 저장\n",
        "    num_col = list(X._get_numeric_data().columns)\n",
        "\n",
        "    # 범주형 피처 리스트 저장\n",
        "    cat_col = list(X.columns)\n",
        "    for col in num_col:\n",
        "        cat_col.remove(col)\n",
        "        \n",
        "    encoder = LabelEncoder()\n",
        "    for cat in cat_col:\n",
        "        X[cat] = encoder.fit_transform(X[cat])\n",
        "\n",
        "    return X\n",
        "\n",
        "# 인코딩2 - 원핫인코딩\n",
        "def OneHotEncode(X):\n",
        "    object_col = []\n",
        "    for col in X.columns:\n",
        "        if X[col].dtype == 'object':\n",
        "            object_col.append(col)\n",
        "\n",
        "    enc = OneHotEncoder()\n",
        "    enc.fit(X.loc[:,object_col])\n",
        "\n",
        "    onehot_X = pd.DataFrame(enc.transform(X.loc[:,object_col]).toarray(), \n",
        "                                   columns = enc.get_feature_names(object_col))\n",
        "    X.drop(object_col, axis=1, inplace=True)\n",
        "    X = pd.concat([X, onehot_X], axis=1)\n",
        "    \n",
        "    return X\n"
      ],
      "execution_count": 7,
      "outputs": []
    },
    {
      "cell_type": "markdown",
      "metadata": {
        "id": "_HDH4sowu42F"
      },
      "source": [
        "# Preprocess"
      ]
    },
    {
      "cell_type": "code",
      "metadata": {
        "id": "xlHURC4MqXM5"
      },
      "source": [
        "X = meanMode(X)\n",
        "# X,y = delNaN(X,y)\n"
      ],
      "execution_count": 8,
      "outputs": []
    },
    {
      "cell_type": "code",
      "metadata": {
        "id": "gbivdm9SoqTH"
      },
      "source": [
        "# 가계 부채비율\n",
        "X['DeptRatio'] = round((X['LoanAmount']*1000)/(X['Total_Income']*12),1)\n",
        "\n",
        "# 월 이자 부담(원금 균등상환 전제)\n",
        "montly_interest = round(X['LoanAmount']*1000/X['Loan_Amount_Term'])\n",
        "X['MonthlyInterest'] = round(montly_interest/X['Total_Income'],2)"
      ],
      "execution_count": 9,
      "outputs": []
    },
    {
      "cell_type": "code",
      "metadata": {
        "colab": {
          "base_uri": "https://localhost:8080/",
          "height": 388
        },
        "id": "0-FkrpAHfuAh",
        "outputId": "70c3ea3b-9b59-4b5b-e021-c2311f38a3c0"
      },
      "source": [
        "X['LoanYear'] = (X['Loan_Amount_Term']/12).astype(int)\n",
        "X['LoanAmountThousand'] = X['LoanAmount']*1000\n",
        "X['YearInterest'] = X['LoanAmountThousand']/X['LoanYear']\n",
        "\n",
        "X['ApplicantIncome'] = np.log(X['ApplicantIncome'])\n",
        "X['CoapplicantIncome'] = np.log(X['CoapplicantIncome'])\n",
        "X['Total_Income'] = np.log(X['Total_Income'])\n",
        "X['YearInterest'] = np.log(X['YearInterest'])\n",
        "\n",
        "corr2 = X.corr()\n",
        "sns.heatmap(corr2, annot=True, cmap='BuPu')"
      ],
      "execution_count": 10,
      "outputs": [
        {
          "output_type": "execute_result",
          "data": {
            "text/plain": [
              "<matplotlib.axes._subplots.AxesSubplot at 0x7faa23ae5950>"
            ]
          },
          "metadata": {
            "tags": []
          },
          "execution_count": 10
        },
        {
          "output_type": "display_data",
          "data": {
            "image/png": "[encoded data removed]",
            "text/plain": [
              "<Figure size 432x288 with 2 Axes>"
            ]
          },
          "metadata": {
            "tags": [],
            "needs_background": "light"
          }
        }
      ]
    },
    {
      "cell_type": "code",
      "metadata": {
        "id": "3ZEWWRk-dm5_"
      },
      "source": [
        "# X = X.drop(['LoanAmount', 'LoanAmountThousand', 'Loan_Amount_Term', 'CoapplicantIncome'],axis=1)\n",
        "# X = X.drop(['LoanAmount', 'LoanAmountThousand', 'Loan_Amount_Term', 'CoapplicantIncome', 'LoanYear'],axis=1)\n",
        "# X = X.drop(['LoanAmountThousand', 'LoanYear', 'CoapplicantIncome'],axis=1)\n",
        "# X = X.drop(['CoapplicantIncome'],axis=1)\n",
        "\n",
        "X = X.drop(['LoanAmountThousand', 'LoanYear', 'CoapplicantIncome', 'YearInterest'],axis=1)\n"
      ],
      "execution_count": 11,
      "outputs": []
    },
    {
      "cell_type": "code",
      "metadata": {
        "colab": {
          "base_uri": "https://localhost:8080/",
          "height": 241
        },
        "id": "dTjqUFNEp10r",
        "outputId": "e378c3d0-60a7-4177-821c-7d1d7c008ad5"
      },
      "source": [
        "X.head()"
      ],
      "execution_count": 12,
      "outputs": [
        {
          "output_type": "execute_result",
          "data": {
            "text/html": [
              "<div>\n",
              "<style scoped>\n",
              "    .dataframe tbody tr th:only-of-type {\n",
              "        vertical-align: middle;\n",
              "    }\n",
              "\n",
              "    .dataframe tbody tr th {\n",
              "        vertical-align: top;\n",
              "    }\n",
              "\n",
              "    .dataframe thead th {\n",
              "        text-align: right;\n",
              "    }\n",
              "</style>\n",
              "<table border=\"1\" class=\"dataframe\">\n",
              "  <thead>\n",
              "    <tr style=\"text-align: right;\">\n",
              "      <th></th>\n",
              "      <th>Gender</th>\n",
              "      <th>Married</th>\n",
              "      <th>Dependents</th>\n",
              "      <th>Education</th>\n",
              "      <th>Self_Employed</th>\n",
              "      <th>ApplicantIncome</th>\n",
              "      <th>LoanAmount</th>\n",
              "      <th>Loan_Amount_Term</th>\n",
              "      <th>Credit_History</th>\n",
              "      <th>Property_Area</th>\n",
              "      <th>Total_Income</th>\n",
              "      <th>DeptRatio</th>\n",
              "      <th>MonthlyInterest</th>\n",
              "    </tr>\n",
              "  </thead>\n",
              "  <tbody>\n",
              "    <tr>\n",
              "      <th>0</th>\n",
              "      <td>Male</td>\n",
              "      <td>No</td>\n",
              "      <td>0</td>\n",
              "      <td>Graduate</td>\n",
              "      <td>No</td>\n",
              "      <td>8.674026</td>\n",
              "      <td>144.0</td>\n",
              "      <td>360.0</td>\n",
              "      <td>1.0</td>\n",
              "      <td>Urban</td>\n",
              "      <td>8.674026</td>\n",
              "      <td>2.1</td>\n",
              "      <td>0.07</td>\n",
              "    </tr>\n",
              "    <tr>\n",
              "      <th>1</th>\n",
              "      <td>Male</td>\n",
              "      <td>Yes</td>\n",
              "      <td>1</td>\n",
              "      <td>Graduate</td>\n",
              "      <td>No</td>\n",
              "      <td>8.430109</td>\n",
              "      <td>128.0</td>\n",
              "      <td>360.0</td>\n",
              "      <td>1.0</td>\n",
              "      <td>Rural</td>\n",
              "      <td>8.714568</td>\n",
              "      <td>1.8</td>\n",
              "      <td>0.06</td>\n",
              "    </tr>\n",
              "    <tr>\n",
              "      <th>2</th>\n",
              "      <td>Male</td>\n",
              "      <td>Yes</td>\n",
              "      <td>0</td>\n",
              "      <td>Graduate</td>\n",
              "      <td>Yes</td>\n",
              "      <td>8.006368</td>\n",
              "      <td>66.0</td>\n",
              "      <td>360.0</td>\n",
              "      <td>1.0</td>\n",
              "      <td>Urban</td>\n",
              "      <td>8.006368</td>\n",
              "      <td>1.8</td>\n",
              "      <td>0.06</td>\n",
              "    </tr>\n",
              "    <tr>\n",
              "      <th>3</th>\n",
              "      <td>Male</td>\n",
              "      <td>Yes</td>\n",
              "      <td>0</td>\n",
              "      <td>Not Graduate</td>\n",
              "      <td>No</td>\n",
              "      <td>7.856707</td>\n",
              "      <td>120.0</td>\n",
              "      <td>360.0</td>\n",
              "      <td>1.0</td>\n",
              "      <td>Urban</td>\n",
              "      <td>8.505323</td>\n",
              "      <td>2.0</td>\n",
              "      <td>0.07</td>\n",
              "    </tr>\n",
              "    <tr>\n",
              "      <th>4</th>\n",
              "      <td>Male</td>\n",
              "      <td>No</td>\n",
              "      <td>0</td>\n",
              "      <td>Graduate</td>\n",
              "      <td>No</td>\n",
              "      <td>8.699515</td>\n",
              "      <td>141.0</td>\n",
              "      <td>360.0</td>\n",
              "      <td>1.0</td>\n",
              "      <td>Urban</td>\n",
              "      <td>8.699515</td>\n",
              "      <td>2.0</td>\n",
              "      <td>0.07</td>\n",
              "    </tr>\n",
              "  </tbody>\n",
              "</table>\n",
              "</div>"
            ],
            "text/plain": [
              "  Gender Married Dependents  ... Total_Income DeptRatio  MonthlyInterest\n",
              "0   Male      No          0  ...     8.674026       2.1             0.07\n",
              "1   Male     Yes          1  ...     8.714568       1.8             0.06\n",
              "2   Male     Yes          0  ...     8.006368       1.8             0.06\n",
              "3   Male     Yes          0  ...     8.505323       2.0             0.07\n",
              "4   Male      No          0  ...     8.699515       2.0             0.07\n",
              "\n",
              "[5 rows x 13 columns]"
            ]
          },
          "metadata": {
            "tags": []
          },
          "execution_count": 12
        }
      ]
    },
    {
      "cell_type": "code",
      "metadata": {
        "colab": {
          "base_uri": "https://localhost:8080/",
          "height": 373
        },
        "id": "yg4zTra5p34G",
        "outputId": "fa9c7807-5eed-4f20-887c-8f4d13aad742"
      },
      "source": [
        "corr3 = X.corr()\n",
        "sns.heatmap(corr3, annot=True, cmap='BuPu')"
      ],
      "execution_count": 13,
      "outputs": [
        {
          "output_type": "execute_result",
          "data": {
            "text/plain": [
              "<matplotlib.axes._subplots.AxesSubplot at 0x7faa1b125110>"
            ]
          },
          "metadata": {
            "tags": []
          },
          "execution_count": 13
        },
        {
          "output_type": "display_data",
          "data": {
            "image/png": "[encoded data removed]",
            "text/plain": [
              "<Figure size 432x288 with 2 Axes>"
            ]
          },
          "metadata": {
            "tags": [],
            "needs_background": "light"
          }
        }
      ]
    },
    {
      "cell_type": "code",
      "metadata": {
        "id": "SECWyTD2dmP9"
      },
      "source": [
        "X = LabelEncode(X)\n",
        "enc = LabelEncoder()\n",
        "y = enc.fit_transform(y)"
      ],
      "execution_count": 14,
      "outputs": []
    },
    {
      "cell_type": "markdown",
      "metadata": {
        "id": "womVpBmm1w_2"
      },
      "source": [
        "# Resampling"
      ]
    },
    {
      "cell_type": "code",
      "metadata": {
        "id": "1r1WZm011BRc"
      },
      "source": [
        "# from imblearn.over_sampling import RandomOverSampler\n",
        "# from collections import Counter\n",
        "\n",
        "# randomsample= RandomOverSampler()\n",
        "# X, y = randomsample.fit_resample(X, y)\n",
        "# X = pd.DataFrame(X)\n",
        "# y = pd.Series(y)\n",
        "\n",
        "# [Resampling 진행 시 결과]\n",
        "# LogisticRegression  :  0.6984592468463435\n",
        "# LGBMClassifier  :  0.8839780291393193\n",
        "# CatBoostClassifier  :  0.8695712889261277\n",
        "# DecisionTreeClassifier  :  0.8377321603128053\n",
        "# SVC  :  0.562281804217288\n",
        "# XGBClassifier  :  0.8014243820695434"
      ],
      "execution_count": 15,
      "outputs": []
    },
    {
      "cell_type": "markdown",
      "metadata": {
        "id": "-glGUqMVuu_m"
      },
      "source": [
        "# Model Building"
      ]
    },
    {
      "cell_type": "code",
      "metadata": {
        "id": "xRT1MhoRdsDM"
      },
      "source": [
        "from sklearn.model_selection import StratifiedKFold\n",
        "\n",
        "def kFold(model):\n",
        "    n_fold = 11\n",
        "\n",
        "    skfold = StratifiedKFold(n_splits=n_fold, shuffle=True, random_state=156)\n",
        "    folds = []\n",
        "    acc_list = []\n",
        "\n",
        "    for train_idx, validate_idx in skfold.split(X,y):\n",
        "        folds.append((train_idx, validate_idx))\n",
        "\n",
        "    for fold in range(n_fold):\n",
        "    #     print(f'\\n---------------- Fold{fold}----------------\\n')\n",
        "        train_idx, validate_idx = folds[fold]\n",
        "        X_train, X_valid, y_train, y_valid = X.iloc[train_idx], X.iloc[validate_idx], y[train_idx], y[validate_idx]\n",
        "\n",
        "        kf_model = model\n",
        "        kf_model.fit(X_train, y_train)\n",
        "\n",
        "        y_preds = kf_model.predict(X_valid)\n",
        "        accuracy = accuracy_score(y_valid, y_preds)\n",
        "    #     print('Accuracy Score: {:0.3f}'.format(accuracy))\n",
        "        acc_list.append(accuracy)\n",
        "\n",
        "\n",
        "#     print(np.mean(acc_list))\n",
        "    return np.mean(acc_list)\n",
        "\n",
        "# Logistic = 0.810\n",
        "# catboost: 0.816"
      ],
      "execution_count": 16,
      "outputs": []
    },
    {
      "cell_type": "code",
      "metadata": {
        "id": "80AjX3pzqnh_"
      },
      "source": [
        "# !pip install --target=$my_path catboost"
      ],
      "execution_count": 17,
      "outputs": []
    },
    {
      "cell_type": "code",
      "metadata": {
        "colab": {
          "base_uri": "https://localhost:8080/"
        },
        "id": "O8k2c8Wgp-U1",
        "outputId": "51aafdb3-cdc8-417a-cfd6-424472298bc4"
      },
      "source": [
        "from sklearn.tree import DecisionTreeClassifier\n",
        "from sklearn.neighbors import KNeighborsClassifier\n",
        "from sklearn.linear_model import LogisticRegression\n",
        "from sklearn.svm import SVC\n",
        "from lightgbm import LGBMClassifier\n",
        "from xgboost import XGBClassifier\n",
        "from catboost import CatBoostClassifier\n",
        "\n",
        "# models = [DecisionTreeClassifier(), KNeighborsClassifier(), SVC(), XGBClassifier()]\n",
        "models = [LogisticRegression(), LGBMClassifier(n_estimators=1000, random_state=2),\n",
        "        CatBoostClassifier(n_estimators=1000, random_state=2, verbose=False),\n",
        "        DecisionTreeClassifier(min_samples_split=3),\n",
        "        XGBClassifier(learning_rate =0.002,\n",
        "                      n_estimators=1000,\n",
        "                      max_depth=6,\n",
        "                      min_child_weight=1,\n",
        "                      gamma=0.2,\n",
        "                      subsample=0.69,\n",
        "                      colsample_bytree=0.8,\n",
        "                      objective= 'binary:logistic',\n",
        "                      nthread=-1,\n",
        "                      scale_pos_weight=1,\n",
        "                      reg_alpha=1e-5,\n",
        "                      seed=10,\n",
        "                      verbose=False)]\n",
        "\n",
        "for model in models:\n",
        "    print(model.__class__.__name__,' : ', kFold(model))\n"
      ],
      "execution_count": 18,
      "outputs": [
        {
          "output_type": "stream",
          "text": [
            "LogisticRegression  :  0.8101010101010101\n",
            "LGBMClassifier  :  0.7862099253403602\n",
            "CatBoostClassifier  :  0.8260869565217391\n",
            "DecisionTreeClassifier  :  0.6858585858585858\n",
            "XGBClassifier  :  0.8220904699165569\n"
          ],
          "name": "stdout"
        }
      ]
    },
    {
      "cell_type": "markdown",
      "metadata": {
        "id": "Hu7ML-L6upwz"
      },
      "source": [
        "# Model Evaluation"
      ]
    }
  ]
}